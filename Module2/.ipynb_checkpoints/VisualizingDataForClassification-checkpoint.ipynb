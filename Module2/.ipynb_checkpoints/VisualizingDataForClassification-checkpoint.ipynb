{
 "cells": [
  {
   "cell_type": "markdown",
   "metadata": {},
   "source": [
    "# Visualizing Data for Classification\n",
    "\n",
    "In a previous lab you explored the automotive price dataset to understand the relationships for a regression problem. In this lab you will explore the German bank credit dataset to understand the relationships for a **classification** problem. The difference being, that in classification problems the label is a categorical variable. \n",
    "\n",
    "Visualization for classification problems shares much in common with visualization for regression problems. Colinear features should be identified so they can be eliminated or otherwise dealt with. However, for classification problems you are looking for features that help **separate the label categories**. Separation is achieved when there are distinctive feature values for each label category. Good separation results in low classification error rate."
   ]
  },
  {
   "cell_type": "markdown",
   "metadata": {},
   "source": [
    "## Load and prepare the data set\n",
    "\n",
    "As a first step you must load the dataset. \n",
    "\n",
    "Execute the code in the cell below to load the packages required for the rest of this notebook.\n",
    "\n",
    "> **Note:** If you are running in Azure Notebooks, make sure that you run the code in the `setup.ipynb` notebook at the start of you session to ensure your environment is correctly configured. "
   ]
  },
  {
   "cell_type": "code",
   "execution_count": null,
   "metadata": {},
   "outputs": [],
   "source": [
    "## load packages ggplot2 and repr\n",
    "\n",
    "# set the options for repr\n",
    "options(repr.plot.width=4, repr.plot.height=4) # Set the initial plot area dimensions"
   ]
  },
  {
   "cell_type": "markdown",
   "metadata": {},
   "source": [
    "The code in the cell below loads the dataset and assigns human-readable names to the columns. The dimension and head of the data frame are then printed. Execute this code:"
   ]
  },
  {
   "cell_type": "code",
   "execution_count": null,
   "metadata": {},
   "outputs": [],
   "source": [
    "# load the \"German_Credit.csv\" file and set the header to FALSE while importing. Name the data set \"credit\"\n",
    "\n",
    "\n",
    "# give the credit data set names\n",
    "names(credit) = c('Customer_ID','checking_account_status', 'loan_duration_mo', 'credit_history', \n",
    "                  'purpose', 'loan_amount', 'savings_account_balance', \n",
    "                  'time_employed_yrs', 'payment_pcnt_income','gender_status', \n",
    "                  'other_signators', 'time_in_residence', 'property', 'age_yrs',\n",
    "                  'other_credit_outstanding', 'home_ownership', 'number_loans', \n",
    "                  'job_category', 'dependents', 'telephone', 'foreign_worker', \n",
    "                  'bad_credit')\n",
    "print(dim(credit))\n",
    "\n",
    "# inspect the credit data\n"
   ]
  },
  {
   "cell_type": "markdown",
   "metadata": {},
   "source": [
    "The first column is Customer_ID, which is an identifier. And then there are 20 features plus a label column. These features represent information a bank might have on its customers. There are both numeric and categorical features. However, the categorical features are coded in a way that makes them hard to understand. Further, the label is coded as $\\{ 1,2 \\}$ which is a bit awkward. \n",
    "\n",
    "The code in the cell below using a list of lists to recode the categorical features with human-readable text. The processing is performed with these steps:\n",
    "1. Lists for each of the human readable codes are created for each column. The names of these lists are the codes in the raw data.\n",
    "2. A list of lists is created with the column names used as the list names.\n",
    "3. A list of categorical columns is created.\n",
    "4. A for loop iterates over the column names. `sapply` is used to iterate over the codes in each column. The codes are used to generate names for the list lookup. \n",
    "\n",
    "Execute this code and examine the result: "
   ]
  },
  {
   "cell_type": "code",
   "execution_count": null,
   "metadata": {
    "scrolled": false
   },
   "outputs": [],
   "source": [
    "checking_account_status = c('< 0 DM', '0 - 200 DM', '> 200 DM or salary assignment', 'none')\n",
    "names(checking_account_status) = c('A11', 'A12', 'A13', 'A14')\n",
    "credit_history = c('no credit - paid', 'all loans at bank paid', 'current loans paid', \n",
    "                   'past payment delays',  'critical account - other non-bank loans')\n",
    "names(credit_history) = c('A30', 'A31', 'A32', 'A33', 'A34')\n",
    "purpose = c( 'car (new)', 'car (used)', 'furniture/equipment', 'radio/television', \n",
    "             'domestic appliances', 'repairs', 'education', 'vacation', 'retraining',\n",
    "             'business', 'other')\n",
    "names(purpose) = c('A40', 'A41', 'A42', 'A43', 'A44', 'A45', 'A46', 'A47', 'A48', 'A49', 'A410')\n",
    "savings_account_balance = c('< 100 DM', '100 - 500 DM', '500 - 1000 DM', '>= 1000 DM', 'unknown/none')\n",
    "names(savings_account_balance) = c('A61', 'A62', 'A63', 'A64', 'A65')\n",
    "time_employed_yrs = c('unemployed', '< 1 year', '1 - 4 years', '4 - 7 years', '>= 7 years')\n",
    "names(time_employed_yrs) = c('A71', 'A72', 'A73', 'A74', 'A75')\n",
    "gender_status = c('male-divorced/separated', 'female-divorced/separated/married',\n",
    "                  'male-single', 'male-married/widowed', 'female-single')\n",
    "names(gender_status) = c('A91', 'A92', 'A93', 'A94', 'A95')\n",
    "other_signators = c('none', 'co-applicant', 'guarantor')\n",
    "names(other_signators) = c('A101', 'A102', 'A103')\n",
    "property =  c('real estate', 'building society savings/life insurance', 'car or other', 'unknown-none')\n",
    "names(property) = c('A121', 'A122', 'A123', 'A124')\n",
    "other_credit_outstanding = c('bank', 'stores', 'none')\n",
    "names(other_credit_outstanding) = c('A141', 'A142', 'A143')\n",
    "home_ownership = c('rent', 'own', 'for free')\n",
    "names(home_ownership) = c('A151', 'A152', 'A153')\n",
    "job_category = c('unemployed-unskilled-non-resident', 'unskilled-resident', 'skilled', 'highly skilled')\n",
    "names(job_category) =c('A171', 'A172', 'A173', 'A174')\n",
    "telephone = c('none', 'yes')\n",
    "names(telephone) = c('A191', 'A192')\n",
    "foreign_worker = c('yes', 'no')\n",
    "names(foreign_worker) = c('A201', 'A202')\n",
    "bad_credit = c(1, 0)\n",
    "names(bad_credit) = c(2, 1)\n",
    "            \n",
    "codes = c('checking_account_status' = checking_account_status,\n",
    "         'credit_history' = credit_history,\n",
    "         'purpose' = purpose,\n",
    "         'savings_account_balance' = savings_account_balance,\n",
    "         'time_employed_yrs' = time_employed_yrs,\n",
    "         'gender_status' = gender_status,\n",
    "         'other_signators' = other_signators,\n",
    "         'property' = property,\n",
    "         'other_credit_outstanding' = other_credit_outstanding,\n",
    "         'home_ownership' = home_ownership,\n",
    "         'job_category' = job_category,\n",
    "         'telephone' = telephone,\n",
    "         'foreign_worker' = foreign_worker,\n",
    "         'bad_credit' = bad_credit)         \n",
    "\n",
    "cat_cols = c('checking_account_status', 'credit_history', 'purpose', 'savings_account_balance', \n",
    "                  'time_employed_yrs','gender_status', 'other_signators', 'property',\n",
    "                  'other_credit_outstanding', 'home_ownership', 'job_category', 'telephone', 'foreign_worker', \n",
    "                  'bad_credit')\n",
    "\n",
    "for(col in cat_cols){\n",
    "    credit[,col] = sapply(credit[,col], function(code){codes[[paste(col, '.', code, sep = '')]]})\n",
    "}\n",
    "\n",
    "# inspect the credit data set again\n"
   ]
  },
  {
   "cell_type": "markdown",
   "metadata": {},
   "source": [
    "The categorical features now have meaningful coding. Additionally, the label is now coded as a binary variable. \n",
    "\n",
    "## Examine classes and class imbalance\n",
    "\n",
    "In this case, the label has significant **class imbalance**. Class imbalance means that there are  unequal numbers of cases for the categories of the label. Class imbalance can seriously bias the training of classifier algorithms. It many cases, the imbalance leads to a higher error rate for the minority class. Most real-world classification problems have class imbalance, sometimes severe class imbalance, so it is important to test for this before training any model. \n",
    "\n",
    "Fortunately, it is easy to test for class imbalance using a frequency table. Execute the code in the cell below to display a frequency table of the classes: "
   ]
  },
  {
   "cell_type": "code",
   "execution_count": null,
   "metadata": {},
   "outputs": [],
   "source": [
    "# inspect the \"bad_credit\" variable by making a frequency table with table()\n"
   ]
  },
  {
   "cell_type": "markdown",
   "metadata": {},
   "source": [
    "Notice that only 30% of the cases have bad credit. This is not suprising, since a bank would typically retain customers with good credit. While this is not a cases of sereve imbalance, it is enough to bias the traing of any model. "
   ]
  },
  {
   "cell_type": "markdown",
   "metadata": {},
   "source": [
    "## Visualize class separation by numeric features\n",
    "\n",
    "As stated previously, the primary goal of visualization for classification problems is to understand which features are useful for class separation. In this section, you will start by visualizing the separation quality of numeric features. \n",
    "\n",
    "Execute the code, examine the results, and answer **Question 1** on the course page."
   ]
  },
  {
   "cell_type": "code",
   "execution_count": null,
   "metadata": {
    "scrolled": false
   },
   "outputs": [],
   "source": [
    "plot_box = function(df, cols, col_x = 'bad_credit'){\n",
    "    options(repr.plot.width=4, repr.plot.height=3.5) # Set the initial plot area dimensions\n",
    "    for(col in cols){\n",
    "        p = ggplot(df, aes_string(col_x, col)) + \n",
    "                   geom_boxplot() +\n",
    "                   ggtitle(paste('Box plot of', col, '\\n vs.', col_x))\n",
    "        print(p)\n",
    "    }\n",
    "}\n",
    "\n",
    "num_cols = c('loan_duration_mo', 'loan_amount', 'payment_pcnt_income',\n",
    "            'age_yrs', 'number_loans', 'dependents')\n",
    "plot_box(credit, num_cols)  "
   ]
  },
  {
   "cell_type": "markdown",
   "metadata": {},
   "source": [
    "How can you interpret these results? Box plots are useful, since by their very construction you are forced to focus on the overlap (or not) of the quartiles of the distribution. In this case, the question is there sufficient differences in the quartiles for the feature to be useful in separation the label classes? There are there are three cases displayed above:\n",
    "\n",
    "1. For loan_duration_mo, loan_amount, and payment as a percent of income (payment_pcnt_income), there is useful separation between good and bad credit customers. As one might expect, bad credit customers have longer loan duration on larger loans and with payments being a greater percentage of their income.\n",
    "2. On the other hand, age in years, number_loans and dependents does not seem to matter. In latter two cases, this situation seems to result from the median value being zero. There are just not enough non-zero cases to make these useful features.\n",
    "\n",
    "As an alternative to box plots, you can use violin plots to examine the separation of label cases by numeric features. Execute the code in the cell below and examine the results:"
   ]
  },
  {
   "cell_type": "code",
   "execution_count": null,
   "metadata": {
    "scrolled": false
   },
   "outputs": [],
   "source": [
    "plot_violin = function(df, cols, col_x = 'bad_credit'){\n",
    "    options(repr.plot.width=4, repr.plot.height=3.5) # Set the initial plot area dimensions\n",
    "    for(col in cols){\n",
    "        p = ggplot(df, aes_string(col_x, col)) + \n",
    "                   geom_violin() +\n",
    "                   ggtitle(paste('Box plot of', col, '\\n vs.', col_x))\n",
    "        print(p)\n",
    "    }\n",
    "}\n",
    "\n",
    "plot_violin(credit, num_cols)  "
   ]
  },
  {
   "cell_type": "markdown",
   "metadata": {},
   "source": [
    "The interpretation of these plots is largely the same as the box plots. However, there is one detail worth noting. The differences between loan_duration_mo and loan_amount for good and bad credit customers are only for the more extreme values. It may be that these features are less useful and the box plot indicates."
   ]
  },
  {
   "cell_type": "markdown",
   "metadata": {},
   "source": [
    "## Visualizing class separation by categorical features\n",
    "\n",
    "Now you will turn to the problem of visualizing the ability of categorical features to separate classes of the label. Ideally, a categorical feature will have very different counts of the categories for each of the label values. A good way to visualize these relationships is with bar plots.\n",
    "\n",
    "The code in the cell below creates side by side plots of the categorical variables for each of the labels categories. The `grid.arrange` function from the gridExtra package is used  to arrange the two plots side by side. \n",
    "\n",
    "Execute this code, examine the results, and answer **Question 2** on the course page."
   ]
  },
  {
   "cell_type": "code",
   "execution_count": null,
   "metadata": {
    "scrolled": false
   },
   "outputs": [],
   "source": [
    "library(gridExtra)\n",
    "plot_bars = function(df, catcols){\n",
    "    options(repr.plot.width=6, repr.plot.height=5) # Set the initial plot area dimensions\n",
    "    temp0 = df[df$bad_credit == 0,]\n",
    "    temp1 = df[df$bad_credit == 1,]\n",
    "    for(col in cat_cols){\n",
    "            p1 = ggplot(temp0, aes_string(col)) + \n",
    "                       geom_bar() +\n",
    "                       ggtitle(paste('Bar plot of \\n', col, '\\n for good credit')) +  \n",
    "                       theme(axis.text.x = element_text(angle = 90, hjust = 1))\n",
    "            p2 = ggplot(temp1, aes_string(col)) + \n",
    "                       geom_bar() +\n",
    "                       ggtitle(paste('Bar plot of \\n', col, '\\n for bad credit')) +  \n",
    "                       theme(axis.text.x = element_text(angle = 90, hjust = 1))\n",
    "            grid.arrange(p1,p2, nrow = 1)\n",
    "    }\n",
    "}\n",
    "\n",
    "plot_bars(credit, cat_cols)    "
   ]
  },
  {
   "cell_type": "markdown",
   "metadata": {},
   "source": [
    "There is a lot of information in these plots. The key to interpretation of these plots is comparing the proportion of the categories for each of the label values. If these proportions are distinctly different for each label category, the feature is likely to be useful in separating the label.  \n",
    "\n",
    "There are several cases evident in these plots:\n",
    "\n",
    "1. Some features such as checking_account_status and credit_history have significantly different distribution of categories between the label categories.\n",
    "2. Others features such as gender_status and telephone show small differences, but these differences are unlikely to be significant.\n",
    "3. Other features like other_signators, foreign_worker, home_ownership, and job_category have a dominant category with very few cases of other categories. These features will likely have very little power to separate the cases.\n",
    "\n",
    "Notice that only a few of these categorical features will be useful in separating the cases."
   ]
  },
  {
   "cell_type": "markdown",
   "metadata": {},
   "source": [
    "## Summary\n",
    "\n",
    "In this lab you have performed exploration and visualization to understand the relationships in a classification dataset. Specifically:\n",
    "1. Looked for imbalance in the label cases using a frequency table. \n",
    "2. the goal of visualization is to find numeric or categorical features that separate the cases."
   ]
  },
  {
   "cell_type": "code",
   "execution_count": null,
   "metadata": {},
   "outputs": [],
   "source": []
  }
 ],
 "metadata": {
  "kernelspec": {
   "display_name": "R",
   "language": "R",
   "name": "ir"
  },
  "language_info": {
   "codemirror_mode": "r",
   "file_extension": ".r",
   "mimetype": "text/x-r-source",
   "name": "R",
   "pygments_lexer": "r",
   "version": "3.3.3"
  }
 },
 "nbformat": 4,
 "nbformat_minor": 2
}
