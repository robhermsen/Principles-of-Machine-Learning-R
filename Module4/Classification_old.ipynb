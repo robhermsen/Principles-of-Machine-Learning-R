{
 "cells": [
  {
   "cell_type": "markdown",
   "metadata": {},
   "source": [
    "# Applications of Classification\n",
    "\n",
    "In this lab you will perform **two-class classification** using **logistic regression**. A classifier is a machine learning model that separates the **label** into categories or **classes**. In other words, classification models are **supervised** machine learning modules which predict a categorical label\n",
    "\n",
    "In this case, bank customer data is used to determine if a particular person is a good or bad credit risk. Thus, credit risk of the customer is the classes you must predict. In this case, the cost to the bank of issuing a loan to a bad risk customer is five times that of denying a loan to a good customer. This fact will become important when evaluating the performance of the model. \n",
    "\n",
    "Logistic regression is a linear model but with a nonlinear response. The response is binary, $\\{ 0,1 \\}$, or positive and negative. The response is the prediction of the category. \n",
    "\n",
    "In this lab you will learn the following: \n",
    "-  How to prepare data for classification models using tools in R, in particular the Caret package. \n",
    "-  Constructing a classification model with R.\n",
    "-  Evaluating the performance of the classification model. \n",
    "-  Using techniques such as reweighting the labels and changing the decision threshold to change the trade-off between false positive and false negative error rates. "
   ]
  },
  {
   "cell_type": "markdown",
   "metadata": {},
   "source": [
    "## Basics of logistic regression\n",
    "\n",
    "In this section some basic properties of the logistic regression model are presented. \n",
    "\n",
    "First, execute the code in the cell below to load the packages required  to run this notebook. "
   ]
  },
  {
   "cell_type": "code",
   "execution_count": 1,
   "metadata": {},
   "outputs": [
    {
     "name": "stderr",
     "output_type": "stream",
     "text": [
      "Loading required package: gplots\n",
      "\n",
      "Attaching package: 'gplots'\n",
      "\n",
      "The following object is masked from 'package:stats':\n",
      "\n",
      "    lowess\n",
      "\n",
      "Type 'citation(\"pROC\")' for a citation.\n",
      "\n",
      "Attaching package: 'pROC'\n",
      "\n",
      "The following objects are masked from 'package:stats':\n",
      "\n",
      "    cov, smooth, var\n",
      "\n"
     ]
    }
   ],
   "source": [
    "## Import packages\n",
    "library(ggplot2)\n",
    "library(repr)\n",
    "library(caret)\n",
    "library(ROCR)\n",
    "library(pROC)\n",
    "\n",
    "options(repr.plot.width=4, repr.plot.height=4) # Set the initial plot area dimensions"
   ]
  },
  {
   "cell_type": "markdown",
   "metadata": {},
   "source": [
    "Logistic regression is widely used as a classification model. Logistic regression is linear model, with a binary response, `{False, True}` or `{0, 1}`. You can think of this response as having a Binomial distribution. For linear regression the response is just, well, linear. Logistic regression is a linear regression model with a nonlinear output. The response of the linear model is transformed or 'squashed' to values close to 0 or 1 using a **sigmoidal function**, also known as the **logistic function**. The result of this transformation is a response which is the log likelihood for each of the two classes. \n",
    "\n",
    "The sigmoidal or logistic function can be expressed as follows:\n",
    "\n",
    "$$f(x) = \\frac{1}{1 + e^{-\\kappa(x - x_0)}} \\\\\n",
    "\\kappa = steepness$$\n",
    "\n",
    "Execute the code in the cell below to compute and plot an example of the logistic function."
   ]
  },
  {
   "cell_type": "code",
   "execution_count": 2,
   "metadata": {
    "scrolled": false
   },
   "outputs": [
    {
     "data": {},
     "metadata": {},
     "output_type": "display_data"
    },
    {
     "data": {
      "image/png": "[encoded data removed]",
      "text/plain": [
       "plot without title"
      ]
     },
     "metadata": {},
     "output_type": "display_data"
    }
   ],
   "source": [
    "xseq = seq(-7, 7, length.out = 500)\n",
    "plot.logistic = function(v){\n",
    "  options(repr.plot.width=5, repr.plot.height=4)\n",
    "  logistic = exp(xseq - v)/(1 + exp(xseq - v))\n",
    "  df = data.frame(x = xseq, y = logistic)\n",
    "  ggplot(df, aes(x,y)) +\n",
    "    geom_line(size = 1, color = 'red') +\n",
    "    geom_vline(xintercept = v, size = 1, color = 'black') +\n",
    "    geom_hline(yintercept = 0.5, size = 1, color = 'black') +\n",
    "    ylab('log likelihood') + xlab('Value of x') +\n",
    "    ggtitle('Logistic function for \\n two-class classification') +\n",
    "    theme_grey(base_size = 18)\n",
    "}\n",
    "plot.logistic(0)"
   ]
  },
  {
   "cell_type": "markdown",
   "metadata": {},
   "source": [
    "Let's make this a bit more concrete with a simple example. Say we have a linear model:\n",
    "\n",
    "$$\\hat{y} = \\beta_0 + \\beta_1\\ x$$\n",
    "\n",
    "Now, depending on the value of $\\hat{y}$ we want to classify the output from a logistic regression model as either `0` or `1`. Substituting the linear model into the logistic function creates the following expression:\n",
    "\n",
    "$$F(\\hat{y}) = \\frac{1}{1 + e^{-\\kappa(\\beta_0 + \\beta_1\\ x)}} $$\n",
    "\n",
    "In this way we transform the continuous output of the linear model defined on $-\\infty \\le \\hat{y} \\le \\infty$ to a binary response, $0 \\le F(\\hat{y}) \\le 1$."
   ]
  },
  {
   "cell_type": "markdown",
   "metadata": {},
   "source": [
    "## Load and prepare the data set\n",
    "\n",
    "As a first step, load the dataset. The code in the cell below loads the dataset and displays the head of the data frame. Execute this code and examine the result."
   ]
  },
  {
   "cell_type": "code",
   "execution_count": 3,
   "metadata": {},
   "outputs": [
    {
     "data": {
      "text/html": [
       "<ol class=list-inline>\n",
       "\t<li>1000</li>\n",
       "\t<li>22</li>\n",
       "</ol>\n"
      ],
      "text/latex": [
       "\\begin{enumerate*}\n",
       "\\item 1000\n",
       "\\item 22\n",
       "\\end{enumerate*}\n"
      ],
      "text/markdown": [
       "1. 1000\n",
       "2. 22\n",
       "\n",
       "\n"
      ],
      "text/plain": [
       "[1] 1000   22"
      ]
     },
     "metadata": {},
     "output_type": "display_data"
    },
    {
     "data": {
      "text/html": [
       "<table>\n",
       "<thead><tr><th scope=col>Customer_ID</th><th scope=col>checking_account_status</th><th scope=col>loan_duration_mo</th><th scope=col>credit_history</th><th scope=col>purpose</th><th scope=col>loan_amount</th><th scope=col>savings_account_balance</th><th scope=col>time_employed_yrs</th><th scope=col>payment_pcnt_income</th><th scope=col>gender_status</th><th scope=col>...</th><th scope=col>property</th><th scope=col>age_yrs</th><th scope=col>other_credit_outstanding</th><th scope=col>home_ownership</th><th scope=col>number_loans</th><th scope=col>job_category</th><th scope=col>dependents</th><th scope=col>telephone</th><th scope=col>foreign_worker</th><th scope=col>bad_credit</th></tr></thead>\n",
       "<tbody>\n",
       "\t<tr><td>1122334                                                                        </td><td><span style=white-space:pre-wrap>&lt; 0 DM    </span>                          </td><td> 6                                                                             </td><td>critical account - other non-bank loans                                        </td><td><span style=white-space:pre-wrap>radio/television   </span>                    </td><td>1169                                                                           </td><td>unknown/none                                                                   </td><td>&gt;= 7 years                                                                  </td><td>4                                                                              </td><td><span style=white-space:pre-wrap>male-single                      </span>      </td><td>...                                                                            </td><td><span style=white-space:pre-wrap>real estate                            </span></td><td>67                                                                             </td><td>none                                                                           </td><td><span style=white-space:pre-wrap>own     </span>                               </td><td>2                                                                              </td><td><span style=white-space:pre-wrap>skilled           </span>                     </td><td>1                                                                              </td><td>yes                                                                            </td><td>yes                                                                            </td><td>0                                                                              </td></tr>\n",
       "\t<tr><td>6156361                                                                        </td><td>0 - 200 DM                                                                     </td><td>48                                                                             </td><td><span style=white-space:pre-wrap>current loans paid                     </span></td><td><span style=white-space:pre-wrap>radio/television   </span>                    </td><td>5951                                                                           </td><td><span style=white-space:pre-wrap>&lt; 100 DM    </span>                        </td><td>1 - 4 years                                                                    </td><td>2                                                                              </td><td>female-divorced/separated/married                                              </td><td>...                                                                            </td><td><span style=white-space:pre-wrap>real estate                            </span></td><td>22                                                                             </td><td>none                                                                           </td><td><span style=white-space:pre-wrap>own     </span>                               </td><td>1                                                                              </td><td><span style=white-space:pre-wrap>skilled           </span>                     </td><td>1                                                                              </td><td>none                                                                           </td><td>yes                                                                            </td><td>1                                                                              </td></tr>\n",
       "\t<tr><td>2051359                                                                        </td><td><span style=white-space:pre-wrap>none      </span>                             </td><td>12                                                                             </td><td>critical account - other non-bank loans                                        </td><td><span style=white-space:pre-wrap>education          </span>                    </td><td>2096                                                                           </td><td><span style=white-space:pre-wrap>&lt; 100 DM    </span>                        </td><td>4 - 7 years                                                                    </td><td>2                                                                              </td><td><span style=white-space:pre-wrap>male-single                      </span>      </td><td>...                                                                            </td><td><span style=white-space:pre-wrap>real estate                            </span></td><td>49                                                                             </td><td>none                                                                           </td><td><span style=white-space:pre-wrap>own     </span>                               </td><td>1                                                                              </td><td>unskilled-resident                                                             </td><td>2                                                                              </td><td>none                                                                           </td><td>yes                                                                            </td><td>0                                                                              </td></tr>\n",
       "\t<tr><td>8740590                                                                        </td><td><span style=white-space:pre-wrap>&lt; 0 DM    </span>                          </td><td>42                                                                             </td><td><span style=white-space:pre-wrap>current loans paid                     </span></td><td>furniture/equipment                                                            </td><td>7882                                                                           </td><td><span style=white-space:pre-wrap>&lt; 100 DM    </span>                        </td><td>4 - 7 years                                                                    </td><td>2                                                                              </td><td><span style=white-space:pre-wrap>male-single                      </span>      </td><td>...                                                                            </td><td>building society savings/life insurance                                        </td><td>45                                                                             </td><td>none                                                                           </td><td>for free                                                                       </td><td>1                                                                              </td><td><span style=white-space:pre-wrap>skilled           </span>                     </td><td>2                                                                              </td><td>none                                                                           </td><td>yes                                                                            </td><td>0                                                                              </td></tr>\n",
       "\t<tr><td>3924540                                                                        </td><td><span style=white-space:pre-wrap>&lt; 0 DM    </span>                          </td><td>24                                                                             </td><td><span style=white-space:pre-wrap>past payment delays                    </span></td><td><span style=white-space:pre-wrap>car (new)          </span>                    </td><td>4870                                                                           </td><td><span style=white-space:pre-wrap>&lt; 100 DM    </span>                        </td><td>1 - 4 years                                                                    </td><td>3                                                                              </td><td><span style=white-space:pre-wrap>male-single                      </span>      </td><td>...                                                                            </td><td><span style=white-space:pre-wrap>unknown-none                           </span></td><td>53                                                                             </td><td>none                                                                           </td><td>for free                                                                       </td><td>2                                                                              </td><td><span style=white-space:pre-wrap>skilled           </span>                     </td><td>2                                                                              </td><td>none                                                                           </td><td>yes                                                                            </td><td>1                                                                              </td></tr>\n",
       "\t<tr><td>3115687                                </td><td>none                                   </td><td>36                                     </td><td>current loans paid                     </td><td>education                              </td><td>9055                                   </td><td>unknown/none                           </td><td>1 - 4 years                            </td><td>2                                      </td><td>male-single                            </td><td>...                                    </td><td>unknown-none                           </td><td>35                                     </td><td>none                                   </td><td>for free                               </td><td>1                                      </td><td>unskilled-resident                     </td><td>2                                      </td><td>yes                                    </td><td>yes                                    </td><td>0                                      </td></tr>\n",
       "</tbody>\n",
       "</table>\n"
      ],
      "text/latex": [
       "\\begin{tabular}{r|llllllllllllllllllllll}\n",
       " Customer\\_ID & checking\\_account\\_status & loan\\_duration\\_mo & credit\\_history & purpose & loan\\_amount & savings\\_account\\_balance & time\\_employed\\_yrs & payment\\_pcnt\\_income & gender\\_status & ... & property & age\\_yrs & other\\_credit\\_outstanding & home\\_ownership & number\\_loans & job\\_category & dependents & telephone & foreign\\_worker & bad\\_credit\\\\\n",
       "\\hline\n",
       "\t 1122334                                 & < 0 DM                                  &  6                                      & critical account - other non-bank loans & radio/television                        & 1169                                    & unknown/none                            & >= 7 years                              & 4                                       & male-single                             & ...                                     & real estate                             & 67                                      & none                                    & own                                     & 2                                       & skilled                                 & 1                                       & yes                                     & yes                                     & 0                                      \\\\\n",
       "\t 6156361                                 & 0 - 200 DM                              & 48                                      & current loans paid                      & radio/television                        & 5951                                    & < 100 DM                                & 1 - 4 years                             & 2                                       & female-divorced/separated/married       & ...                                     & real estate                             & 22                                      & none                                    & own                                     & 1                                       & skilled                                 & 1                                       & none                                    & yes                                     & 1                                      \\\\\n",
       "\t 2051359                                 & none                                    & 12                                      & critical account - other non-bank loans & education                               & 2096                                    & < 100 DM                                & 4 - 7 years                             & 2                                       & male-single                             & ...                                     & real estate                             & 49                                      & none                                    & own                                     & 1                                       & unskilled-resident                      & 2                                       & none                                    & yes                                     & 0                                      \\\\\n",
       "\t 8740590                                 & < 0 DM                                  & 42                                      & current loans paid                      & furniture/equipment                     & 7882                                    & < 100 DM                                & 4 - 7 years                             & 2                                       & male-single                             & ...                                     & building society savings/life insurance & 45                                      & none                                    & for free                                & 1                                       & skilled                                 & 2                                       & none                                    & yes                                     & 0                                      \\\\\n",
       "\t 3924540                                 & < 0 DM                                  & 24                                      & past payment delays                     & car (new)                               & 4870                                    & < 100 DM                                & 1 - 4 years                             & 3                                       & male-single                             & ...                                     & unknown-none                            & 53                                      & none                                    & for free                                & 2                                       & skilled                                 & 2                                       & none                                    & yes                                     & 1                                      \\\\\n",
       "\t 3115687                                 & none                                    & 36                                      & current loans paid                      & education                               & 9055                                    & unknown/none                            & 1 - 4 years                             & 2                                       & male-single                             & ...                                     & unknown-none                            & 35                                      & none                                    & for free                                & 1                                       & unskilled-resident                      & 2                                       & yes                                     & yes                                     & 0                                      \\\\\n",
       "\\end{tabular}\n"
      ],
      "text/markdown": [
       "\n",
       "Customer_ID | checking_account_status | loan_duration_mo | credit_history | purpose | loan_amount | savings_account_balance | time_employed_yrs | payment_pcnt_income | gender_status | ... | property | age_yrs | other_credit_outstanding | home_ownership | number_loans | job_category | dependents | telephone | foreign_worker | bad_credit | \n",
       "|---|---|---|---|---|---|\n",
       "| 1122334                                 | < 0 DM                                  |  6                                      | critical account - other non-bank loans | radio/television                        | 1169                                    | unknown/none                            | >= 7 years                              | 4                                       | male-single                             | ...                                     | real estate                             | 67                                      | none                                    | own                                     | 2                                       | skilled                                 | 1                                       | yes                                     | yes                                     | 0                                       | \n",
       "| 6156361                                 | 0 - 200 DM                              | 48                                      | current loans paid                      | radio/television                        | 5951                                    | < 100 DM                                | 1 - 4 years                             | 2                                       | female-divorced/separated/married       | ...                                     | real estate                             | 22                                      | none                                    | own                                     | 1                                       | skilled                                 | 1                                       | none                                    | yes                                     | 1                                       | \n",
       "| 2051359                                 | none                                    | 12                                      | critical account - other non-bank loans | education                               | 2096                                    | < 100 DM                                | 4 - 7 years                             | 2                                       | male-single                             | ...                                     | real estate                             | 49                                      | none                                    | own                                     | 1                                       | unskilled-resident                      | 2                                       | none                                    | yes                                     | 0                                       | \n",
       "| 8740590                                 | < 0 DM                                  | 42                                      | current loans paid                      | furniture/equipment                     | 7882                                    | < 100 DM                                | 4 - 7 years                             | 2                                       | male-single                             | ...                                     | building society savings/life insurance | 45                                      | none                                    | for free                                | 1                                       | skilled                                 | 2                                       | none                                    | yes                                     | 0                                       | \n",
       "| 3924540                                 | < 0 DM                                  | 24                                      | past payment delays                     | car (new)                               | 4870                                    | < 100 DM                                | 1 - 4 years                             | 3                                       | male-single                             | ...                                     | unknown-none                            | 53                                      | none                                    | for free                                | 2                                       | skilled                                 | 2                                       | none                                    | yes                                     | 1                                       | \n",
       "| 3115687                                 | none                                    | 36                                      | current loans paid                      | education                               | 9055                                    | unknown/none                            | 1 - 4 years                             | 2                                       | male-single                             | ...                                     | unknown-none                            | 35                                      | none                                    | for free                                | 1                                       | unskilled-resident                      | 2                                       | yes                                     | yes                                     | 0                                       | \n",
       "\n",
       "\n"
      ],
      "text/plain": [
       "  Customer_ID checking_account_status loan_duration_mo\n",
       "1 1122334     < 0 DM                   6              \n",
       "2 6156361     0 - 200 DM              48              \n",
       "3 2051359     none                    12              \n",
       "4 8740590     < 0 DM                  42              \n",
       "5 3924540     < 0 DM                  24              \n",
       "6 3115687     none                    36              \n",
       "  credit_history                          purpose             loan_amount\n",
       "1 critical account - other non-bank loans radio/television    1169       \n",
       "2 current loans paid                      radio/television    5951       \n",
       "3 critical account - other non-bank loans education           2096       \n",
       "4 current loans paid                      furniture/equipment 7882       \n",
       "5 past payment delays                     car (new)           4870       \n",
       "6 current loans paid                      education           9055       \n",
       "  savings_account_balance time_employed_yrs payment_pcnt_income\n",
       "1 unknown/none            >= 7 years        4                  \n",
       "2 < 100 DM                1 - 4 years       2                  \n",
       "3 < 100 DM                4 - 7 years       2                  \n",
       "4 < 100 DM                4 - 7 years       2                  \n",
       "5 < 100 DM                1 - 4 years       3                  \n",
       "6 unknown/none            1 - 4 years       2                  \n",
       "  gender_status                     ... property                               \n",
       "1 male-single                       ... real estate                            \n",
       "2 female-divorced/separated/married ... real estate                            \n",
       "3 male-single                       ... real estate                            \n",
       "4 male-single                       ... building society savings/life insurance\n",
       "5 male-single                       ... unknown-none                           \n",
       "6 male-single                       ... unknown-none                           \n",
       "  age_yrs other_credit_outstanding home_ownership number_loans\n",
       "1 67      none                     own            2           \n",
       "2 22      none                     own            1           \n",
       "3 49      none                     own            1           \n",
       "4 45      none                     for free       1           \n",
       "5 53      none                     for free       2           \n",
       "6 35      none                     for free       1           \n",
       "  job_category       dependents telephone foreign_worker bad_credit\n",
       "1 skilled            1          yes       yes            0         \n",
       "2 skilled            1          none      yes            1         \n",
       "3 unskilled-resident 2          none      yes            0         \n",
       "4 skilled            2          none      yes            0         \n",
       "5 skilled            2          none      yes            1         \n",
       "6 unskilled-resident 2          yes       yes            0         "
      ]
     },
     "metadata": {},
     "output_type": "display_data"
    }
   ],
   "source": [
    "credit = read.csv('German_Credit_Preped.csv')\n",
    "dim(credit)\n",
    "head(credit)"
   ]
  },
  {
   "cell_type": "markdown",
   "metadata": {},
   "source": [
    "There are 20 features, the customer ID, and a label column. These features represent information a bank might have on its customers. \n",
    "\n",
    "The categorical features now have meaningful coding. Additionally the label is now coded as a binary variable."
   ]
  },
  {
   "cell_type": "markdown",
   "metadata": {},
   "source": [
    "## Investigate label imbalance\n",
    "\n",
    "There is one other aspect of this data set which you should be aware of. The label has significant **class imbalance**. Class imbalance means that there are  unequal numbers of cases for the categories of the label. \n",
    "\n",
    "To examine the class imbalance in these data, execute the code in the cell below. "
   ]
  },
  {
   "cell_type": "code",
   "execution_count": 4,
   "metadata": {},
   "outputs": [
    {
     "data": {
      "text/plain": [
       "\n",
       "  0   1 \n",
       "700 300 "
      ]
     },
     "metadata": {},
     "output_type": "display_data"
    }
   ],
   "source": [
    "table(credit[,'bad_credit'])"
   ]
  },
  {
   "cell_type": "markdown",
   "metadata": {},
   "source": [
    "Notice that only 30% of the cases have bad credit. This is not surprising, since a bank would typically retain customers with good credit. However, this imbalance will bias the training of any model. \n",
    "\n",
    "Before proceeding, answer **Question 1** on the course page."
   ]
  },
  {
   "cell_type": "markdown",
   "metadata": {},
   "source": [
    "## Code the positive and negative cases\n",
    "\n",
    "The R Caret package computes most performance metrics using the positive cases. For example, recall is a measure of correct classification of positive cases. Therefore, it is important to have the coding of the label correct. In this case you want to detect bad credit customers, so this category becomes the positive case. The code in the cell below creates a factor (categorical) variable and coerces the levels of the label column, `bad_credit`. Execute this code. \n",
    "\n",
    "****\n",
    "**Note:** Whenever you work with binary (two-class) classifier software it is important to be clear which case is positive and which is negative. In this case the levels of label are set in the code below. \n",
    "****"
   ]
  },
  {
   "cell_type": "code",
   "execution_count": 5,
   "metadata": {},
   "outputs": [
    {
     "data": {
      "text/html": [
       "<ol class=list-inline>\n",
       "\t<li>good</li>\n",
       "\t<li>bad</li>\n",
       "\t<li>good</li>\n",
       "\t<li>good</li>\n",
       "\t<li>bad</li>\n",
       "</ol>\n"
      ],
      "text/latex": [
       "\\begin{enumerate*}\n",
       "\\item good\n",
       "\\item bad\n",
       "\\item good\n",
       "\\item good\n",
       "\\item bad\n",
       "\\end{enumerate*}\n"
      ],
      "text/markdown": [
       "1. good\n",
       "2. bad\n",
       "3. good\n",
       "4. good\n",
       "5. bad\n",
       "\n",
       "\n"
      ],
      "text/plain": [
       "[1] good bad  good good bad \n",
       "Levels: bad good"
      ]
     },
     "metadata": {},
     "output_type": "display_data"
    }
   ],
   "source": [
    "credit$bad_credit <- ifelse(credit$bad_credit == 1, 'bad', 'good')\n",
    "credit$bad_credit <- factor(credit$bad_credit, levels = c('bad', 'good'))\n",
    "credit$bad_credit[1:5]"
   ]
  },
  {
   "cell_type": "markdown",
   "metadata": {},
   "source": [
    "In the results above you can see the new coding of the label column along with the levels, {'bad', 'good'}. "
   ]
  },
  {
   "cell_type": "markdown",
   "metadata": {},
   "source": [
    "## Split the data\n",
    "\n",
    "You must now create randomly sampled training and test data sets. The `createDataPartition` function from the R caret package is used  to create indices for the training data sample. In this case 70% of the data will be used  for training the model. Execute this code and note the dimensions of the resulting data frame. "
   ]
  },
  {
   "cell_type": "code",
   "execution_count": 25,
   "metadata": {},
   "outputs": [
    {
     "data": {
      "text/html": [
       "<ol class=list-inline>\n",
       "\t<li>700</li>\n",
       "\t<li>22</li>\n",
       "</ol>\n"
      ],
      "text/latex": [
       "\\begin{enumerate*}\n",
       "\\item 700\n",
       "\\item 22\n",
       "\\end{enumerate*}\n"
      ],
      "text/markdown": [
       "1. 700\n",
       "2. 22\n",
       "\n",
       "\n"
      ],
      "text/plain": [
       "[1] 700  22"
      ]
     },
     "metadata": {},
     "output_type": "display_data"
    },
    {
     "data": {
      "text/html": [
       "<ol class=list-inline>\n",
       "\t<li>300</li>\n",
       "\t<li>22</li>\n",
       "</ol>\n"
      ],
      "text/latex": [
       "\\begin{enumerate*}\n",
       "\\item 300\n",
       "\\item 22\n",
       "\\end{enumerate*}\n"
      ],
      "text/markdown": [
       "1. 300\n",
       "2. 22\n",
       "\n",
       "\n"
      ],
      "text/plain": [
       "[1] 300  22"
      ]
     },
     "metadata": {},
     "output_type": "display_data"
    }
   ],
   "source": [
    "set.seed(1955)\n",
    "## Randomly sample cases to create independent training and test data\n",
    "partition = createDataPartition(credit[,'bad_credit'], times = 1, p = 0.7, list = FALSE)\n",
    "training = credit[partition,] # Create the training sample\n",
    "dim(training)\n",
    "test = credit[-partition,] # Create the test sample\n",
    "dim(test)"
   ]
  },
  {
   "cell_type": "markdown",
   "metadata": {},
   "source": [
    "## Scale numeric features\n",
    "\n",
    "Scaling of numeric features is an important step when preparing data for training a machine learning model. The code in the cell below does the following:\n",
    "1. Computes a caret package `preProcess` object for centering and scaling the data. Notice that these computations are done only with the training data. \n",
    "2. The transformations are applied to both the training and test dataset. \n",
    "\n",
    "Execute this code."
   ]
  },
  {
   "cell_type": "code",
   "execution_count": 26,
   "metadata": {},
   "outputs": [
    {
     "data": {
      "text/html": [
       "<table>\n",
       "<thead><tr><th></th><th scope=col>loan_duration_mo</th><th scope=col>loan_amount</th><th scope=col>payment_pcnt_income</th><th scope=col>age_yrs</th></tr></thead>\n",
       "<tbody>\n",
       "\t<tr><th scope=row>1</th><td>-1.2111310 </td><td>-0.7137211 </td><td> 0.91818241</td><td> 2.6286850 </td></tr>\n",
       "\t<tr><th scope=row>3</th><td>-0.7100721 </td><td>-0.3883552 </td><td>-0.88723244</td><td> 1.0922267 </td></tr>\n",
       "\t<tr><th scope=row>4</th><td> 1.7952226 </td><td> 1.6424615 </td><td>-0.88723244</td><td> 0.7507916 </td></tr>\n",
       "\t<tr><th scope=row>5</th><td> 0.2920458 </td><td> 0.5852856 </td><td> 0.01547498</td><td> 1.4336619 </td></tr>\n",
       "\t<tr><th scope=row>7</th><td> 0.2920458 </td><td>-0.1289751 </td><td> 0.01547498</td><td> 1.4336619 </td></tr>\n",
       "\t<tr><th scope=row>8</th><td> 1.2941637 </td><td> 1.3146387 </td><td>-0.88723244</td><td>-0.1027964 </td></tr>\n",
       "</tbody>\n",
       "</table>\n"
      ],
      "text/latex": [
       "\\begin{tabular}{r|llll}\n",
       "  & loan\\_duration\\_mo & loan\\_amount & payment\\_pcnt\\_income & age\\_yrs\\\\\n",
       "\\hline\n",
       "\t1 & -1.2111310  & -0.7137211  &  0.91818241 &  2.6286850 \\\\\n",
       "\t3 & -0.7100721  & -0.3883552  & -0.88723244 &  1.0922267 \\\\\n",
       "\t4 &  1.7952226  &  1.6424615  & -0.88723244 &  0.7507916 \\\\\n",
       "\t5 &  0.2920458  &  0.5852856  &  0.01547498 &  1.4336619 \\\\\n",
       "\t7 &  0.2920458  & -0.1289751  &  0.01547498 &  1.4336619 \\\\\n",
       "\t8 &  1.2941637  &  1.3146387  & -0.88723244 & -0.1027964 \\\\\n",
       "\\end{tabular}\n"
      ],
      "text/markdown": [
       "\n",
       "| <!--/--> | loan_duration_mo | loan_amount | payment_pcnt_income | age_yrs | \n",
       "|---|---|---|---|---|---|\n",
       "| 1 | -1.2111310  | -0.7137211  |  0.91818241 |  2.6286850  | \n",
       "| 3 | -0.7100721  | -0.3883552  | -0.88723244 |  1.0922267  | \n",
       "| 4 |  1.7952226  |  1.6424615  | -0.88723244 |  0.7507916  | \n",
       "| 5 |  0.2920458  |  0.5852856  |  0.01547498 |  1.4336619  | \n",
       "| 7 |  0.2920458  | -0.1289751  |  0.01547498 |  1.4336619  | \n",
       "| 8 |  1.2941637  |  1.3146387  | -0.88723244 | -0.1027964  | \n",
       "\n",
       "\n"
      ],
      "text/plain": [
       "  loan_duration_mo loan_amount payment_pcnt_income age_yrs   \n",
       "1 -1.2111310       -0.7137211   0.91818241          2.6286850\n",
       "3 -0.7100721       -0.3883552  -0.88723244          1.0922267\n",
       "4  1.7952226        1.6424615  -0.88723244          0.7507916\n",
       "5  0.2920458        0.5852856   0.01547498          1.4336619\n",
       "7  0.2920458       -0.1289751   0.01547498          1.4336619\n",
       "8  1.2941637        1.3146387  -0.88723244         -0.1027964"
      ]
     },
     "metadata": {},
     "output_type": "display_data"
    }
   ],
   "source": [
    "num_cols = c('loan_duration_mo', 'loan_amount', 'payment_pcnt_income', 'age_yrs')\n",
    "preProcValues <- preProcess(training[,num_cols], method = c(\"center\", \"scale\"))\n",
    "\n",
    "training[,num_cols] = predict(preProcValues, training[,num_cols])\n",
    "test[,num_cols] = predict(preProcValues, test[,num_cols])\n",
    "head(training[,num_cols])"
   ]
  },
  {
   "cell_type": "markdown",
   "metadata": {},
   "source": [
    "## Construct the logistic regression model\n",
    "\n",
    "Now, it is time to compute the logistic regression model. The code in the cell below using the R generalized linear model or `glm` function to compute a model object as follows:\n",
    "1. The formula for the label vs. the features is defined. \n",
    "2. Since this is logistic regression, the Binomial distribution is specified for the response.\n",
    "\n",
    "Execute this code. "
   ]
  },
  {
   "cell_type": "code",
   "execution_count": 27,
   "metadata": {},
   "outputs": [],
   "source": [
    "set.seed(5566)\n",
    "logistic_mod = glm(bad_credit ~ loan_duration_mo + loan_amount +  \n",
    "                                payment_pcnt_income + age_yrs + \n",
    "                                checking_account_status + credit_history + \n",
    "                                purpose + gender_status + time_in_residence +\n",
    "                                property, \n",
    "                   family = binomial, data = training)\n"
   ]
  },
  {
   "cell_type": "markdown",
   "metadata": {},
   "source": [
    "Now, print and examine the model coefficients by executing the code in the cell below. "
   ]
  },
  {
   "cell_type": "code",
   "execution_count": 28,
   "metadata": {},
   "outputs": [
    {
     "data": {
      "text/html": [
       "<dl class=dl-horizontal>\n",
       "\t<dt>(Intercept)</dt>\n",
       "\t\t<dd>-0.753903325588181</dd>\n",
       "\t<dt>loan_duration_mo</dt>\n",
       "\t\t<dd>-0.354113464859366</dd>\n",
       "\t<dt>loan_amount</dt>\n",
       "\t\t<dd>-0.150465894261572</dd>\n",
       "\t<dt>payment_pcnt_income</dt>\n",
       "\t\t<dd>-0.304748474196351</dd>\n",
       "\t<dt>age_yrs</dt>\n",
       "\t\t<dd>0.220216222285485</dd>\n",
       "\t<dt>checking_account_status&gt; 200 DM or salary assignment</dt>\n",
       "\t\t<dd>1.1771056076823</dd>\n",
       "\t<dt>checking_account_status0 - 200 DM</dt>\n",
       "\t\t<dd>0.528792573911066</dd>\n",
       "\t<dt>checking_account_statusnone</dt>\n",
       "\t\t<dd>1.85130662333274</dd>\n",
       "\t<dt>credit_historycritical account - other non-bank loans</dt>\n",
       "\t\t<dd>1.43374850862834</dd>\n",
       "\t<dt>credit_historycurrent loans paid</dt>\n",
       "\t\t<dd>0.979906645656234</dd>\n",
       "\t<dt>credit_historyno credit - paid</dt>\n",
       "\t\t<dd>-0.130121442456619</dd>\n",
       "\t<dt>credit_historypast payment delays</dt>\n",
       "\t\t<dd>0.828272102846126</dd>\n",
       "\t<dt>purposecar (new)</dt>\n",
       "\t\t<dd>-0.788504776796768</dd>\n",
       "\t<dt>purposecar (used)</dt>\n",
       "\t\t<dd>0.615012553012393</dd>\n",
       "\t<dt>purposedomestic appliances</dt>\n",
       "\t\t<dd>-0.515391981448537</dd>\n",
       "\t<dt>purposeeducation</dt>\n",
       "\t\t<dd>-0.695234200608964</dd>\n",
       "\t<dt>purposefurniture/equipment</dt>\n",
       "\t\t<dd>-0.158883293681348</dd>\n",
       "\t<dt>purposeother</dt>\n",
       "\t\t<dd>0.428708807456325</dd>\n",
       "\t<dt>purposeradio/television</dt>\n",
       "\t\t<dd>0.130800629802037</dd>\n",
       "\t<dt>purposerepairs</dt>\n",
       "\t\t<dd>-0.710677188798803</dd>\n",
       "\t<dt>purposeretraining</dt>\n",
       "\t\t<dd>1.18608234029486</dd>\n",
       "\t<dt>gender_statusmale-divorced/separated</dt>\n",
       "\t\t<dd>-0.153884535204399</dd>\n",
       "\t<dt>gender_statusmale-married/widowed</dt>\n",
       "\t\t<dd>0.0934196884431708</dd>\n",
       "\t<dt>gender_statusmale-single</dt>\n",
       "\t\t<dd>0.4879986257252</dd>\n",
       "\t<dt>time_in_residence</dt>\n",
       "\t\t<dd>-0.0412712090451375</dd>\n",
       "\t<dt>propertycar or other</dt>\n",
       "\t\t<dd>-0.0608213305416101</dd>\n",
       "\t<dt>propertyreal estate</dt>\n",
       "\t\t<dd>0.287116963134496</dd>\n",
       "\t<dt>propertyunknown-none</dt>\n",
       "\t\t<dd>-0.464019733171148</dd>\n",
       "</dl>\n"
      ],
      "text/latex": [
       "\\begin{description*}\n",
       "\\item[(Intercept)] -0.753903325588181\n",
       "\\item[loan\\textbackslash{}\\_duration\\textbackslash{}\\_mo] -0.354113464859366\n",
       "\\item[loan\\textbackslash{}\\_amount] -0.150465894261572\n",
       "\\item[payment\\textbackslash{}\\_pcnt\\textbackslash{}\\_income] -0.304748474196351\n",
       "\\item[age\\textbackslash{}\\_yrs] 0.220216222285485\n",
       "\\item[checking\\textbackslash{}\\_account\\textbackslash{}\\_status> 200 DM or salary assignment] 1.1771056076823\n",
       "\\item[checking\\textbackslash{}\\_account\\textbackslash{}\\_status0 - 200 DM] 0.528792573911066\n",
       "\\item[checking\\textbackslash{}\\_account\\textbackslash{}\\_statusnone] 1.85130662333274\n",
       "\\item[credit\\textbackslash{}\\_historycritical account - other non-bank loans] 1.43374850862834\n",
       "\\item[credit\\textbackslash{}\\_historycurrent loans paid] 0.979906645656234\n",
       "\\item[credit\\textbackslash{}\\_historyno credit - paid] -0.130121442456619\n",
       "\\item[credit\\textbackslash{}\\_historypast payment delays] 0.828272102846126\n",
       "\\item[purposecar (new)] -0.788504776796768\n",
       "\\item[purposecar (used)] 0.615012553012393\n",
       "\\item[purposedomestic appliances] -0.515391981448537\n",
       "\\item[purposeeducation] -0.695234200608964\n",
       "\\item[purposefurniture/equipment] -0.158883293681348\n",
       "\\item[purposeother] 0.428708807456325\n",
       "\\item[purposeradio/television] 0.130800629802037\n",
       "\\item[purposerepairs] -0.710677188798803\n",
       "\\item[purposeretraining] 1.18608234029486\n",
       "\\item[gender\\textbackslash{}\\_statusmale-divorced/separated] -0.153884535204399\n",
       "\\item[gender\\textbackslash{}\\_statusmale-married/widowed] 0.0934196884431708\n",
       "\\item[gender\\textbackslash{}\\_statusmale-single] 0.4879986257252\n",
       "\\item[time\\textbackslash{}\\_in\\textbackslash{}\\_residence] -0.0412712090451375\n",
       "\\item[propertycar or other] -0.0608213305416101\n",
       "\\item[propertyreal estate] 0.287116963134496\n",
       "\\item[propertyunknown-none] -0.464019733171148\n",
       "\\end{description*}\n"
      ],
      "text/markdown": [
       "(Intercept)\n",
       ":   -0.753903325588181loan_duration_mo\n",
       ":   -0.354113464859366loan_amount\n",
       ":   -0.150465894261572payment_pcnt_income\n",
       ":   -0.304748474196351age_yrs\n",
       ":   0.220216222285485checking_account_status&amp;gt; 200 DM or salary assignment\n",
       ":   1.1771056076823checking_account_status0 - 200 DM\n",
       ":   0.528792573911066checking_account_statusnone\n",
       ":   1.85130662333274credit_historycritical account - other non-bank loans\n",
       ":   1.43374850862834credit_historycurrent loans paid\n",
       ":   0.979906645656234credit_historyno credit - paid\n",
       ":   -0.130121442456619credit_historypast payment delays\n",
       ":   0.828272102846126purposecar (new)\n",
       ":   -0.788504776796768purposecar (used)\n",
       ":   0.615012553012393purposedomestic appliances\n",
       ":   -0.515391981448537purposeeducation\n",
       ":   -0.695234200608964purposefurniture/equipment\n",
       ":   -0.158883293681348purposeother\n",
       ":   0.428708807456325purposeradio/television\n",
       ":   0.130800629802037purposerepairs\n",
       ":   -0.710677188798803purposeretraining\n",
       ":   1.18608234029486gender_statusmale-divorced/separated\n",
       ":   -0.153884535204399gender_statusmale-married/widowed\n",
       ":   0.0934196884431708gender_statusmale-single\n",
       ":   0.4879986257252time_in_residence\n",
       ":   -0.0412712090451375propertycar or other\n",
       ":   -0.0608213305416101propertyreal estate\n",
       ":   0.287116963134496propertyunknown-none\n",
       ":   -0.464019733171148\n",
       "\n"
      ],
      "text/plain": [
       "                                          (Intercept) \n",
       "                                          -0.75390333 \n",
       "                                     loan_duration_mo \n",
       "                                          -0.35411346 \n",
       "                                          loan_amount \n",
       "                                          -0.15046589 \n",
       "                                  payment_pcnt_income \n",
       "                                          -0.30474847 \n",
       "                                              age_yrs \n",
       "                                           0.22021622 \n",
       " checking_account_status> 200 DM or salary assignment \n",
       "                                           1.17710561 \n",
       "                    checking_account_status0 - 200 DM \n",
       "                                           0.52879257 \n",
       "                          checking_account_statusnone \n",
       "                                           1.85130662 \n",
       "credit_historycritical account - other non-bank loans \n",
       "                                           1.43374851 \n",
       "                     credit_historycurrent loans paid \n",
       "                                           0.97990665 \n",
       "                       credit_historyno credit - paid \n",
       "                                          -0.13012144 \n",
       "                    credit_historypast payment delays \n",
       "                                           0.82827210 \n",
       "                                     purposecar (new) \n",
       "                                          -0.78850478 \n",
       "                                    purposecar (used) \n",
       "                                           0.61501255 \n",
       "                           purposedomestic appliances \n",
       "                                          -0.51539198 \n",
       "                                     purposeeducation \n",
       "                                          -0.69523420 \n",
       "                           purposefurniture/equipment \n",
       "                                          -0.15888329 \n",
       "                                         purposeother \n",
       "                                           0.42870881 \n",
       "                              purposeradio/television \n",
       "                                           0.13080063 \n",
       "                                       purposerepairs \n",
       "                                          -0.71067719 \n",
       "                                    purposeretraining \n",
       "                                           1.18608234 \n",
       "                 gender_statusmale-divorced/separated \n",
       "                                          -0.15388454 \n",
       "                    gender_statusmale-married/widowed \n",
       "                                           0.09341969 \n",
       "                             gender_statusmale-single \n",
       "                                           0.48799863 \n",
       "                                    time_in_residence \n",
       "                                          -0.04127121 \n",
       "                                 propertycar or other \n",
       "                                          -0.06082133 \n",
       "                                  propertyreal estate \n",
       "                                           0.28711696 \n",
       "                                 propertyunknown-none \n",
       "                                          -0.46401973 "
      ]
     },
     "metadata": {},
     "output_type": "display_data"
    }
   ],
   "source": [
    "logistic_mod$coefficients"
   ]
  },
  {
   "cell_type": "markdown",
   "metadata": {},
   "source": [
    "First of all, notice that model coefficients are similar to what you might expect for an linear regression model. As previously explained the logistic regression is indeed a linear model.  \n",
    "\n",
    "Recall that the logistic regression model outputs log likelihoods. The class with the highest probability is taken as the score (prediction). Execute the code and the cell below to compute and display a sample of these class probabilities for the test feature set. "
   ]
  },
  {
   "cell_type": "code",
   "execution_count": 29,
   "metadata": {},
   "outputs": [
    {
     "data": {
      "text/html": [
       "<table>\n",
       "<thead><tr><th></th><th scope=col>bad_credit</th><th scope=col>probs</th></tr></thead>\n",
       "<tbody>\n",
       "\t<tr><th scope=row>2</th><td>bad      </td><td>0.5337613</td></tr>\n",
       "\t<tr><th scope=row>6</th><td>good     </td><td>0.6729046</td></tr>\n",
       "\t<tr><th scope=row>17</th><td>good     </td><td>0.9506619</td></tr>\n",
       "\t<tr><th scope=row>21</th><td>good     </td><td>0.9123956</td></tr>\n",
       "\t<tr><th scope=row>24</th><td>good     </td><td>0.9317374</td></tr>\n",
       "\t<tr><th scope=row>27</th><td>good     </td><td>0.7881552</td></tr>\n",
       "\t<tr><th scope=row>28</th><td>good     </td><td>0.7721530</td></tr>\n",
       "\t<tr><th scope=row>30</th><td>bad      </td><td>0.2833987</td></tr>\n",
       "\t<tr><th scope=row>32</th><td>good     </td><td>0.5896523</td></tr>\n",
       "\t<tr><th scope=row>33</th><td>good     </td><td>0.5982149</td></tr>\n",
       "\t<tr><th scope=row>35</th><td>good     </td><td>0.7695260</td></tr>\n",
       "\t<tr><th scope=row>36</th><td>bad      </td><td>0.6102881</td></tr>\n",
       "\t<tr><th scope=row>38</th><td>bad      </td><td>0.8903052</td></tr>\n",
       "\t<tr><th scope=row>43</th><td>good     </td><td>0.6973973</td></tr>\n",
       "\t<tr><th scope=row>44</th><td>good     </td><td>0.7388454</td></tr>\n",
       "\t<tr><th scope=row>46</th><td>good     </td><td>0.8307381</td></tr>\n",
       "\t<tr><th scope=row>50</th><td>good     </td><td>0.9080243</td></tr>\n",
       "\t<tr><th scope=row>51</th><td>good     </td><td>0.5931489</td></tr>\n",
       "\t<tr><th scope=row>53</th><td>good     </td><td>0.9365139</td></tr>\n",
       "\t<tr><th scope=row>54</th><td>good     </td><td>0.9669572</td></tr>\n",
       "</tbody>\n",
       "</table>\n"
      ],
      "text/latex": [
       "\\begin{tabular}{r|ll}\n",
       "  & bad\\_credit & probs\\\\\n",
       "\\hline\n",
       "\t2 & bad       & 0.5337613\\\\\n",
       "\t6 & good      & 0.6729046\\\\\n",
       "\t17 & good      & 0.9506619\\\\\n",
       "\t21 & good      & 0.9123956\\\\\n",
       "\t24 & good      & 0.9317374\\\\\n",
       "\t27 & good      & 0.7881552\\\\\n",
       "\t28 & good      & 0.7721530\\\\\n",
       "\t30 & bad       & 0.2833987\\\\\n",
       "\t32 & good      & 0.5896523\\\\\n",
       "\t33 & good      & 0.5982149\\\\\n",
       "\t35 & good      & 0.7695260\\\\\n",
       "\t36 & bad       & 0.6102881\\\\\n",
       "\t38 & bad       & 0.8903052\\\\\n",
       "\t43 & good      & 0.6973973\\\\\n",
       "\t44 & good      & 0.7388454\\\\\n",
       "\t46 & good      & 0.8307381\\\\\n",
       "\t50 & good      & 0.9080243\\\\\n",
       "\t51 & good      & 0.5931489\\\\\n",
       "\t53 & good      & 0.9365139\\\\\n",
       "\t54 & good      & 0.9669572\\\\\n",
       "\\end{tabular}\n"
      ],
      "text/markdown": [
       "\n",
       "| <!--/--> | bad_credit | probs | \n",
       "|---|---|---|---|---|---|---|---|---|---|---|---|---|---|---|---|---|---|---|---|\n",
       "| 2 | bad       | 0.5337613 | \n",
       "| 6 | good      | 0.6729046 | \n",
       "| 17 | good      | 0.9506619 | \n",
       "| 21 | good      | 0.9123956 | \n",
       "| 24 | good      | 0.9317374 | \n",
       "| 27 | good      | 0.7881552 | \n",
       "| 28 | good      | 0.7721530 | \n",
       "| 30 | bad       | 0.2833987 | \n",
       "| 32 | good      | 0.5896523 | \n",
       "| 33 | good      | 0.5982149 | \n",
       "| 35 | good      | 0.7695260 | \n",
       "| 36 | bad       | 0.6102881 | \n",
       "| 38 | bad       | 0.8903052 | \n",
       "| 43 | good      | 0.6973973 | \n",
       "| 44 | good      | 0.7388454 | \n",
       "| 46 | good      | 0.8307381 | \n",
       "| 50 | good      | 0.9080243 | \n",
       "| 51 | good      | 0.5931489 | \n",
       "| 53 | good      | 0.9365139 | \n",
       "| 54 | good      | 0.9669572 | \n",
       "\n",
       "\n"
      ],
      "text/plain": [
       "   bad_credit probs    \n",
       "2  bad        0.5337613\n",
       "6  good       0.6729046\n",
       "17 good       0.9506619\n",
       "21 good       0.9123956\n",
       "24 good       0.9317374\n",
       "27 good       0.7881552\n",
       "28 good       0.7721530\n",
       "30 bad        0.2833987\n",
       "32 good       0.5896523\n",
       "33 good       0.5982149\n",
       "35 good       0.7695260\n",
       "36 bad        0.6102881\n",
       "38 bad        0.8903052\n",
       "43 good       0.6973973\n",
       "44 good       0.7388454\n",
       "46 good       0.8307381\n",
       "50 good       0.9080243\n",
       "51 good       0.5931489\n",
       "53 good       0.9365139\n",
       "54 good       0.9669572"
      ]
     },
     "metadata": {},
     "output_type": "display_data"
    }
   ],
   "source": [
    "test$probs = predict(logistic_mod, newdata = test, type = 'response')\n",
    "test[1:20, c('bad_credit','probs')]"
   ]
  },
  {
   "cell_type": "markdown",
   "metadata": {},
   "source": [
    "The first column is the label and the second is the log likelihood of a positive score. Notice that several of these log likelihoods are close to 0.5. "
   ]
  },
  {
   "cell_type": "markdown",
   "metadata": {},
   "source": [
    "## Score and evaluate the classification model\n",
    "\n",
    "Now that the log likelihoods have been computed these values must be transformed into actual class scores. Recall that the log likelihoods for two-class logistic regression are computed by applying the sigmoid or logistic transformation to the output of the linear model. The simple choice is to set the threshold between the two likelihoods at $0.5$. The code in the cell below applies this initial threshold to the probability of a score of $1$ for the test data. A few examples along with the known labels are then displayed. Execute this code and examine the result."
   ]
  },
  {
   "cell_type": "code",
   "execution_count": 30,
   "metadata": {},
   "outputs": [
    {
     "data": {
      "text/html": [
       "<table>\n",
       "<thead><tr><th></th><th scope=col>bad_credit</th><th scope=col>probs</th><th scope=col>score</th></tr></thead>\n",
       "<tbody>\n",
       "\t<tr><th scope=row>2</th><td>bad      </td><td>0.5337613</td><td>good     </td></tr>\n",
       "\t<tr><th scope=row>6</th><td>good     </td><td>0.6729046</td><td>good     </td></tr>\n",
       "\t<tr><th scope=row>17</th><td>good     </td><td>0.9506619</td><td>good     </td></tr>\n",
       "\t<tr><th scope=row>21</th><td>good     </td><td>0.9123956</td><td>good     </td></tr>\n",
       "\t<tr><th scope=row>24</th><td>good     </td><td>0.9317374</td><td>good     </td></tr>\n",
       "\t<tr><th scope=row>27</th><td>good     </td><td>0.7881552</td><td>good     </td></tr>\n",
       "\t<tr><th scope=row>28</th><td>good     </td><td>0.7721530</td><td>good     </td></tr>\n",
       "\t<tr><th scope=row>30</th><td>bad      </td><td>0.2833987</td><td>bad      </td></tr>\n",
       "\t<tr><th scope=row>32</th><td>good     </td><td>0.5896523</td><td>good     </td></tr>\n",
       "\t<tr><th scope=row>33</th><td>good     </td><td>0.5982149</td><td>good     </td></tr>\n",
       "\t<tr><th scope=row>35</th><td>good     </td><td>0.7695260</td><td>good     </td></tr>\n",
       "\t<tr><th scope=row>36</th><td>bad      </td><td>0.6102881</td><td>good     </td></tr>\n",
       "\t<tr><th scope=row>38</th><td>bad      </td><td>0.8903052</td><td>good     </td></tr>\n",
       "\t<tr><th scope=row>43</th><td>good     </td><td>0.6973973</td><td>good     </td></tr>\n",
       "\t<tr><th scope=row>44</th><td>good     </td><td>0.7388454</td><td>good     </td></tr>\n",
       "\t<tr><th scope=row>46</th><td>good     </td><td>0.8307381</td><td>good     </td></tr>\n",
       "\t<tr><th scope=row>50</th><td>good     </td><td>0.9080243</td><td>good     </td></tr>\n",
       "\t<tr><th scope=row>51</th><td>good     </td><td>0.5931489</td><td>good     </td></tr>\n",
       "\t<tr><th scope=row>53</th><td>good     </td><td>0.9365139</td><td>good     </td></tr>\n",
       "\t<tr><th scope=row>54</th><td>good     </td><td>0.9669572</td><td>good     </td></tr>\n",
       "</tbody>\n",
       "</table>\n"
      ],
      "text/latex": [
       "\\begin{tabular}{r|lll}\n",
       "  & bad\\_credit & probs & score\\\\\n",
       "\\hline\n",
       "\t2 & bad       & 0.5337613 & good     \\\\\n",
       "\t6 & good      & 0.6729046 & good     \\\\\n",
       "\t17 & good      & 0.9506619 & good     \\\\\n",
       "\t21 & good      & 0.9123956 & good     \\\\\n",
       "\t24 & good      & 0.9317374 & good     \\\\\n",
       "\t27 & good      & 0.7881552 & good     \\\\\n",
       "\t28 & good      & 0.7721530 & good     \\\\\n",
       "\t30 & bad       & 0.2833987 & bad      \\\\\n",
       "\t32 & good      & 0.5896523 & good     \\\\\n",
       "\t33 & good      & 0.5982149 & good     \\\\\n",
       "\t35 & good      & 0.7695260 & good     \\\\\n",
       "\t36 & bad       & 0.6102881 & good     \\\\\n",
       "\t38 & bad       & 0.8903052 & good     \\\\\n",
       "\t43 & good      & 0.6973973 & good     \\\\\n",
       "\t44 & good      & 0.7388454 & good     \\\\\n",
       "\t46 & good      & 0.8307381 & good     \\\\\n",
       "\t50 & good      & 0.9080243 & good     \\\\\n",
       "\t51 & good      & 0.5931489 & good     \\\\\n",
       "\t53 & good      & 0.9365139 & good     \\\\\n",
       "\t54 & good      & 0.9669572 & good     \\\\\n",
       "\\end{tabular}\n"
      ],
      "text/markdown": [
       "\n",
       "| <!--/--> | bad_credit | probs | score | \n",
       "|---|---|---|---|---|---|---|---|---|---|---|---|---|---|---|---|---|---|---|---|\n",
       "| 2 | bad       | 0.5337613 | good      | \n",
       "| 6 | good      | 0.6729046 | good      | \n",
       "| 17 | good      | 0.9506619 | good      | \n",
       "| 21 | good      | 0.9123956 | good      | \n",
       "| 24 | good      | 0.9317374 | good      | \n",
       "| 27 | good      | 0.7881552 | good      | \n",
       "| 28 | good      | 0.7721530 | good      | \n",
       "| 30 | bad       | 0.2833987 | bad       | \n",
       "| 32 | good      | 0.5896523 | good      | \n",
       "| 33 | good      | 0.5982149 | good      | \n",
       "| 35 | good      | 0.7695260 | good      | \n",
       "| 36 | bad       | 0.6102881 | good      | \n",
       "| 38 | bad       | 0.8903052 | good      | \n",
       "| 43 | good      | 0.6973973 | good      | \n",
       "| 44 | good      | 0.7388454 | good      | \n",
       "| 46 | good      | 0.8307381 | good      | \n",
       "| 50 | good      | 0.9080243 | good      | \n",
       "| 51 | good      | 0.5931489 | good      | \n",
       "| 53 | good      | 0.9365139 | good      | \n",
       "| 54 | good      | 0.9669572 | good      | \n",
       "\n",
       "\n"
      ],
      "text/plain": [
       "   bad_credit probs     score\n",
       "2  bad        0.5337613 good \n",
       "6  good       0.6729046 good \n",
       "17 good       0.9506619 good \n",
       "21 good       0.9123956 good \n",
       "24 good       0.9317374 good \n",
       "27 good       0.7881552 good \n",
       "28 good       0.7721530 good \n",
       "30 bad        0.2833987 bad  \n",
       "32 good       0.5896523 good \n",
       "33 good       0.5982149 good \n",
       "35 good       0.7695260 good \n",
       "36 bad        0.6102881 good \n",
       "38 bad        0.8903052 good \n",
       "43 good       0.6973973 good \n",
       "44 good       0.7388454 good \n",
       "46 good       0.8307381 good \n",
       "50 good       0.9080243 good \n",
       "51 good       0.5931489 good \n",
       "53 good       0.9365139 good \n",
       "54 good       0.9669572 good "
      ]
     },
     "metadata": {},
     "output_type": "display_data"
    }
   ],
   "source": [
    "score_model = function(df, threshold){\n",
    "    df$score = ifelse(df$probs < threshold, 'bad', 'good')\n",
    "    df\n",
    "}\n",
    "\n",
    "test = score_model(test, 0.5)\n",
    "test[1:20, c('bad_credit','probs','score')]"
   ]
  },
  {
   "cell_type": "markdown",
   "metadata": {},
   "source": [
    "Some of the negative ($0$) predictions agree with the test labels in the second row, but several do not."
   ]
  },
  {
   "cell_type": "markdown",
   "metadata": {},
   "source": [
    "Given the results of the test data, how can you quantify the performance of the model? In general, you must **always use multiple metrics to evaluate the performance of any machine leaning model**, including classifiers. \n",
    "\n",
    "For classifiers there are a number of metrics commonly used. The **confusion matrix** lays out the correctly and incorrectly classified cases in a tabular format. There are various metrics derived from the values in the confusion matrix. Some of the common cases are briefly reviewed below. \n",
    "\n",
    "**Confusion matrix**\n",
    "\n",
    "As already stated, the confusion matrix lays out correctly and incorrectly classified cases. For the binary (two-class) case the confusion matrix is organized as follows:\n",
    "\n",
    "| | Scored Positive | Scored Negative|  \n",
    "|------|:------:|:------:| \n",
    "|**Actual Positive** | True Positive | False Negative |\n",
    "|**Actual Negative**| False Positive | True Negative |   \n",
    "\n",
    "Here the four elements in the matrix are defined as:    \n",
    "**True Positive** or **TP** are cases with positive labels which have been correctly classified as positive.     \n",
    "**True Negative** or **TN** are cases with negative labels which have been correctly classified as negative.  \n",
    "**False Positive** or **FP** are cases with negative labels which have been incorrectly classified as positive.   \n",
    "**False Negative** or **FN** are cases with positive labels which have been incorrectly classified as negative.\n",
    "\n",
    "When creating a confusion matrix it is important to understand and maintain a convention for which differentiating positive and negative label values. The usual convention is to call the $1$ case positive and the $0$ case negative. \n",
    "\n",
    "Notice that there is an ambiguity in which case is considered positive and which is considered negative when the confusion matrix is computed. Whenever you examine a confusion matrix it is a good idea to spend a moment and decide which case is which. This step will help you relate the results to the problem at hand. \n",
    "\n",
    "**Accuracy**\n",
    "\n",
    "Accuracy is a simple and often misused metric. In simple terms, accuracy is the fraction of cases correctly classified. For a two-class classifier accuracy is written as:\n",
    "\n",
    "$$Accuracy = \\frac{TP+TN}{TP+FP+TN+FN}$$\n",
    "\n",
    "Accuracy can be quite misleading. For example, say a classifier is used to detect fraudulent accounts and the rate of fraud is less than 1%. A naive model would be to say all accounts are not fraudulent. This model has accuracy exceeding  0.99. This sounds impressive, but is clearly useless. \n",
    "\n",
    "**Precision**\n",
    "\n",
    "Precision is the fraction of correctly classified label cases out of all cases classified with that label value. We can express precision by the following relationship:\n",
    "\n",
    "$$Precision = \\frac{M_{i,i}}{\\sum_j M_{i,j}}$$\n",
    "\n",
    "For example, the precision statistic is the number of correctly classified positive cases for the label value divided by all the cases in the column. \n",
    "\n",
    "**Recall**  \n",
    "\n",
    "Recall or **sensitivity** is the fraction of cases of a label value correctly classified out of all cases that actually have that label value. We can express recall by the following relationship:\n",
    "\n",
    "$$Recall = \\frac{M_{i,i}}{\\sum_i M_{i,j}}$$\n",
    "\n",
    "For example, the recall statistic is the number of correctly classified positive cases for the label value divided by all the cases in the row. In this example recall is the **True Positive Rate**. Thus, recall is sensitive to the number of cases correctly classified for a given true label value. \n",
    "\n",
    "**Specificity**\n",
    "\n",
    "Specificity or **True Negative Rate** is fraction of negative cases correctly classified. For the case of a binary classifier, specificity is given as:\n",
    "\n",
    "$$Specificity = \\frac{TN}{(TN + FP)}$$\n",
    "\n",
    "**F1**\n",
    "\n",
    "The F1 statistic is weighted average of precision and recall. We can express F1 by the following relationship:\n",
    "\n",
    "$$F1 = 2 * \\frac{precision * recall}{precision + recall}$$\n",
    "\n",
    "In other words, F1 is a weighted metric for overall model performance. \n",
    "\n",
    "**ROC** and **AUC**\n",
    "\n",
    "The receiver operating characteristic or ROC is a curve that displays the relationship between the true positive rate on the vertical axis and false positive rate on the horizontal axis. The ROC curve shows the tradeoff between true positive rate and false positive rate. An example is illustrated below.   \n",
    "\n",
    "In principle, you can pick the desired operating point for a classifier on this curve. Towards the left favors low false positive rate at the expense of true positive rate. Towards the right favors high true positive rate at the expense of higher false positive rate.  \n",
    "\n",
    "<img src=\"img/ROC_AUC.JPG\" alt=\"Drawing\" style=\"width:600px; height:400px\"/>\n",
    "<center>**ROC curve with values of AUC for balanced two-class problem**</center>\n",
    "\n",
    "The AUC is the area or integral under the ROC curve. The overall performance of the classifier is measured by the area under the curve or AUC. But, how can you interpret a specific AUC value? The higher the AUC the lower the increase in false positive rate required to achieve a required true positive rate.  For an ideal classifier the AUC is 1.0. A true positive rate is achieved with a 0 false positive rate. This behavior means that AUC is useful for comparing classifiers. The classifier with higher AUC is generally the better one. \n",
    "\n",
    "****\n",
    "**Note:** As defined above, AUC is the area under a curve of recall or true positive rate vs. (1-specificity) or false positive rate. It is also possible to create a version of the ROC curve of recall vs. precision. In some cases the R Caret package uses this alternative. Some care is require in determining which case is being reported.\n",
    "****\n",
    "\n",
    "For balanced cases, random guessing gives an AUC or 0.5. A balanced case has equal numbers of positive and negative cases. So Bernoulli sampling (random guessing) with a probability $p$ for the positive case, will produce a ROC curve that runs diagonally from $0.0,0.0$ to $1.0,1.0$. The area under this triangular region is 0.5. It is often said that a classifier with an AUC of greater than 0.5 is better than random guessing. But, **for unbalanced cases this statement is not in true in general**. \n",
    "\n",
    "****\n",
    "**Note:** The term receive operating characteristic may seem a bit odd in the machine learning context. This term arose in the early days of radar engineering as a metric to measure the tradeoff between radar signal receiver correctly detecting a target, say an aircraft, and producing a positive response from noise, such as flying birds or clouds. A radar receiver would be adjusted to the desired operating point along its ROC curve. \n",
    "****"
   ]
  },
  {
   "cell_type": "markdown",
   "metadata": {},
   "source": [
    "The code in the cell below implements a function that computes a confusion matrix. The confusion matrix is then used to compute the performance metrics. Execute this code and examine the results for the logistic regression model. "
   ]
  },
  {
   "cell_type": "code",
   "execution_count": 31,
   "metadata": {},
   "outputs": [
    {
     "name": "stdout",
     "output_type": "stream",
     "text": [
      "                Negative Positive\n",
      "Actual Negative      191       19\n",
      "Actual Positive       51       39\n",
      "\n",
      "accuracy  = 0.767 \n",
      "precision = 0.672 \n",
      "recall    = 0.433 \n",
      "F1        = 0.527 \n",
      "AUC       = 0.801 \n"
     ]
    }
   ],
   "source": [
    "logistic.eval <- function(df){ \n",
    "  # First step is to find the TP, FP, TN, FN cases\n",
    "  df$conf = ifelse(df$bad_credit == 'bad' & df$score == 'bad', 'TP',\n",
    "                    ifelse(df$bad_credit == 'bad' & df$score == 'good', 'FN',\n",
    "                           ifelse(df$bad_credit == 'good' & df$score == 'good', 'TN', 'FP')))\n",
    "\n",
    "  # Elements of the confusion matrix\n",
    "  TP = length(df[df$conf == 'TP', 'conf'])\n",
    "  FP = length(df[df$conf == 'FP', 'conf'])\n",
    "  TN = length(df[df$conf == 'TN', 'conf'])\n",
    "  FN = length(df[df$conf == 'FN', 'conf'])\n",
    "  \n",
    "  ## Confusion matrix as data frame\n",
    "  out = data.frame(Negative = c(TN, FN), Positive = c(FP, TP))\n",
    "  row.names(out) = c('Actual Negative', 'Actual Positive')\n",
    "  print(out)  \n",
    "  \n",
    "  # Compute and print metrics\n",
    "  P = TP/(TP + FP)\n",
    "  R = TP/(TP + FN)  \n",
    "  F1 = 2*P*R/(P+R)  \n",
    "  cat('\\n')\n",
    "  cat(paste('accuracy  =', as.character(round((TP + TN)/(TP + TN + FP + FN), 3)), '\\n'))      \n",
    "  cat(paste('precision =', as.character(round(P, 3)), '\\n'))     \n",
    "  cat(paste('recall    =', as.character(round(R, 3)), '\\n'))\n",
    "  cat(paste('F1        =', as.character(round(F1,3)),'\\n'))\n",
    "    \n",
    "  roc_obj <- roc(df$bad_credit, df$probs)\n",
    "  cat(paste('AUC       =', as.character(round(auc(roc_obj),3)),'\\n'))\n",
    "}\n",
    "logistic.eval(test)             \n",
    "            "
   ]
  },
  {
   "cell_type": "markdown",
   "metadata": {},
   "source": [
    "You can also use the function confusionMatrix if you have converted the score into the same categorical (factor) variable as the label."
   ]
  },
  {
   "cell_type": "code",
   "execution_count": 13,
   "metadata": {},
   "outputs": [
    {
     "data": {
      "text/plain": [
       "Confusion Matrix and Statistics\n",
       "\n",
       "          Reference\n",
       "Prediction bad good\n",
       "      bad   39   19\n",
       "      good  51  191\n",
       "                                          \n",
       "               Accuracy : 0.7667          \n",
       "                 95% CI : (0.7146, 0.8134)\n",
       "    No Information Rate : 0.7             \n",
       "    P-Value [Acc > NIR] : 0.0061107       \n",
       "                                          \n",
       "                  Kappa : 0.3816          \n",
       " Mcnemar's Test P-Value : 0.0002112       \n",
       "                                          \n",
       "            Sensitivity : 0.4333          \n",
       "            Specificity : 0.9095          \n",
       "         Pos Pred Value : 0.6724          \n",
       "         Neg Pred Value : 0.7893          \n",
       "             Prevalence : 0.3000          \n",
       "         Detection Rate : 0.1300          \n",
       "   Detection Prevalence : 0.1933          \n",
       "      Balanced Accuracy : 0.6714          \n",
       "                                          \n",
       "       'Positive' Class : bad             \n",
       "                                          "
      ]
     },
     "metadata": {},
     "output_type": "display_data"
    }
   ],
   "source": [
    "confusionMatrix(factor(test$score), test$bad_credit)"
   ]
  },
  {
   "cell_type": "markdown",
   "metadata": {},
   "source": [
    "Examine these results:\n",
    "1. The confusion matrix shows the following characteristics; a) most of the negative cases (good credit) are correctly classified, 191 vs. 19, however, b) most positive cases (bad credit) are are scored incorrectly, only 39 correct, vs. 51 incorrect.   \n",
    "2. The overall accuracy is 0.767t. However as just observed this is **extremely misleading!**. In fact the positive cases are poorly classified, and it is these bad credit customers the bank cares most about. This is not an unusually case. Accuracy figures should always be regarded with healthy skepticism.\n",
    "3. The class imbalance is confirmed. Of the 300 test cases, the majority are negative (good credit) and a minority are positive (bad credit). \n",
    "\n",
    "Finally, the code in the cell below uses the `prediction` and `performance` functions from the ROCR package to compute and display the ROC curve and AUC. The ROCR package creates R S4 objects. The values in these objects are accessed from slots. \n",
    "\n",
    "Execute this code, examine the result, and answer **Question 2** on the course page."
   ]
  },
  {
   "cell_type": "code",
   "execution_count": 32,
   "metadata": {
    "scrolled": false
   },
   "outputs": [
    {
     "data": {
      "image/png": "[encoded data removed]",
      "text/plain": [
       "plot without title"
      ]
     },
     "metadata": {},
     "output_type": "display_data"
    }
   ],
   "source": [
    "ROC_AUC = function(df){\n",
    "    options(repr.plot.width=5, repr.plot.height=5)\n",
    "    pred_obj = prediction(df$probs, df$bad_credit)\n",
    "    perf_obj <- performance(pred_obj, measure = \"tpr\", x.measure = \"fpr\")\n",
    "    AUC = performance(pred_obj,\"auc\")@y.values[[1]] # Access the AUC from the slot of the S4 object\n",
    "    plot(perf_obj)\n",
    "    abline(a=0, b= 1, col = 'red')\n",
    "    text(0.8, 0.2, paste('AUC = ', as.character(round(AUC, 3))))\n",
    "}\n",
    "\n",
    "ROC_AUC(test)"
   ]
  },
  {
   "cell_type": "markdown",
   "metadata": {},
   "source": [
    "The ROC curve is above the diagonal red line and the AUC is 0.8. But, given the class imbalance of two positive cases for each negative case how good is this? \n",
    "\n",
    "One point of comparison is a naive 'classifier' that sets all cases to positive. The code in the cell below contains such a classifier. This algorithm is not really a classifier at all. This 'classifier' is hard coded. The ROC curve and AUC are then computed and displayed. Run this code, and examine the result. "
   ]
  },
  {
   "cell_type": "code",
   "execution_count": 34,
   "metadata": {
    "scrolled": false
   },
   "outputs": [
    {
     "name": "stdout",
     "output_type": "stream",
     "text": [
      "                Negative Positive\n",
      "Actual Negative      210        0\n",
      "Actual Positive       90        0\n",
      "\n",
      "accuracy  = 0.7 \n",
      "precision = NaN \n",
      "recall    = 0 \n",
      "F1        = NaN \n",
      "AUC       = 0.5 \n"
     ]
    },
    {
     "data": {
      "image/png": "[encoded data removed]",
      "text/plain": [
       "plot without title"
      ]
     },
     "metadata": {},
     "output_type": "display_data"
    }
   ],
   "source": [
    "test$probs = rep(1, length.out = nrow(test))\n",
    "test$score = rep(1, length.out = nrow(test))\n",
    "test = score_model(test, 0.5)\n",
    "logistic.eval(test)\n",
    "ROC_AUC(test)"
   ]
  },
  {
   "cell_type": "markdown",
   "metadata": {},
   "source": [
    "Notice, the accuracy from this 'classifier' is 0.7. This reflects the class imbalance and should be a warning not to trust any one metric! The ROC curve is directly along the diagonal which gives an AUC of about 0.5. The logistic regression classifier is definitely better than this!"
   ]
  },
  {
   "cell_type": "markdown",
   "metadata": {},
   "source": [
    "## Compute a weighted model\n",
    "\n",
    "Recall that a falsely classifying a bad credit risk customer as good costs the bank five times more than classifying a good credit risk customer as bad. Further, there is significant class imbalance. Given this situation, the results of the first model are not that good. There are two reasons for this:\n",
    "\n",
    "1. The class imbalance in the label has biased the training of the model. As you observed from the accuracy of the naive 'classifier' is not that different from the logistic regression model. \n",
    "2. Nothing has been done to weight the results toward correctly classifying the bad credit risk customers at the expense of the good credit risk customers.\n",
    "\n",
    "One approach to these problems is to weight the classes when computing the logistic regression model. The code in the cell below uses a vector that weights each of the training cases. Notice that a 'quasibinomial' distribution is used for the response. The quasibinomial distribution is more robust to a large dispersion in predictions, and is more stable computationally. Execute this code."
   ]
  },
  {
   "cell_type": "code",
   "execution_count": 35,
   "metadata": {
    "scrolled": true
   },
   "outputs": [],
   "source": [
    "## Create a weight vector for the training cases.\n",
    "weights = ifelse(training$bad_credit == 'bad', 0.66, 0.34)\n",
    "## GLM with weights\n",
    "logistic_mod_w = glm(bad_credit ~ loan_duration_mo + loan_amount +  \n",
    "                                  payment_pcnt_income + age_yrs + \n",
    "                                  checking_account_status + credit_history + \n",
    "                                  purpose + gender_status + time_in_residence +\n",
    "                                  property, \n",
    "                     family = quasibinomial, data = training,\n",
    "                     weights = weights)"
   ]
  },
  {
   "cell_type": "markdown",
   "metadata": {},
   "source": [
    "Next, execute the code in the cell below to compute and display the class probabilities for each case. "
   ]
  },
  {
   "cell_type": "code",
   "execution_count": 36,
   "metadata": {},
   "outputs": [
    {
     "data": {
      "text/html": [
       "<table>\n",
       "<thead><tr><th></th><th scope=col>bad_credit</th><th scope=col>probs</th></tr></thead>\n",
       "<tbody>\n",
       "\t<tr><th scope=row>2</th><td>bad      </td><td>0.3731437</td></tr>\n",
       "\t<tr><th scope=row>6</th><td>good     </td><td>0.4849324</td></tr>\n",
       "\t<tr><th scope=row>17</th><td>good     </td><td>0.9131080</td></tr>\n",
       "\t<tr><th scope=row>21</th><td>good     </td><td>0.8492696</td></tr>\n",
       "\t<tr><th scope=row>24</th><td>good     </td><td>0.8828502</td></tr>\n",
       "\t<tr><th scope=row>27</th><td>good     </td><td>0.6854614</td></tr>\n",
       "\t<tr><th scope=row>28</th><td>good     </td><td>0.6201342</td></tr>\n",
       "\t<tr><th scope=row>30</th><td>bad      </td><td>0.1640578</td></tr>\n",
       "\t<tr><th scope=row>32</th><td>good     </td><td>0.4095292</td></tr>\n",
       "\t<tr><th scope=row>33</th><td>good     </td><td>0.4228194</td></tr>\n",
       "\t<tr><th scope=row>35</th><td>good     </td><td>0.6087154</td></tr>\n",
       "\t<tr><th scope=row>36</th><td>bad      </td><td>0.4439027</td></tr>\n",
       "\t<tr><th scope=row>38</th><td>bad      </td><td>0.8050861</td></tr>\n",
       "\t<tr><th scope=row>43</th><td>good     </td><td>0.5232461</td></tr>\n",
       "\t<tr><th scope=row>44</th><td>good     </td><td>0.6165267</td></tr>\n",
       "\t<tr><th scope=row>46</th><td>good     </td><td>0.7312554</td></tr>\n",
       "\t<tr><th scope=row>50</th><td>good     </td><td>0.8407349</td></tr>\n",
       "\t<tr><th scope=row>51</th><td>good     </td><td>0.4014700</td></tr>\n",
       "\t<tr><th scope=row>53</th><td>good     </td><td>0.8844510</td></tr>\n",
       "\t<tr><th scope=row>54</th><td>good     </td><td>0.9378931</td></tr>\n",
       "</tbody>\n",
       "</table>\n"
      ],
      "text/latex": [
       "\\begin{tabular}{r|ll}\n",
       "  & bad\\_credit & probs\\\\\n",
       "\\hline\n",
       "\t2 & bad       & 0.3731437\\\\\n",
       "\t6 & good      & 0.4849324\\\\\n",
       "\t17 & good      & 0.9131080\\\\\n",
       "\t21 & good      & 0.8492696\\\\\n",
       "\t24 & good      & 0.8828502\\\\\n",
       "\t27 & good      & 0.6854614\\\\\n",
       "\t28 & good      & 0.6201342\\\\\n",
       "\t30 & bad       & 0.1640578\\\\\n",
       "\t32 & good      & 0.4095292\\\\\n",
       "\t33 & good      & 0.4228194\\\\\n",
       "\t35 & good      & 0.6087154\\\\\n",
       "\t36 & bad       & 0.4439027\\\\\n",
       "\t38 & bad       & 0.8050861\\\\\n",
       "\t43 & good      & 0.5232461\\\\\n",
       "\t44 & good      & 0.6165267\\\\\n",
       "\t46 & good      & 0.7312554\\\\\n",
       "\t50 & good      & 0.8407349\\\\\n",
       "\t51 & good      & 0.4014700\\\\\n",
       "\t53 & good      & 0.8844510\\\\\n",
       "\t54 & good      & 0.9378931\\\\\n",
       "\\end{tabular}\n"
      ],
      "text/markdown": [
       "\n",
       "| <!--/--> | bad_credit | probs | \n",
       "|---|---|---|---|---|---|---|---|---|---|---|---|---|---|---|---|---|---|---|---|\n",
       "| 2 | bad       | 0.3731437 | \n",
       "| 6 | good      | 0.4849324 | \n",
       "| 17 | good      | 0.9131080 | \n",
       "| 21 | good      | 0.8492696 | \n",
       "| 24 | good      | 0.8828502 | \n",
       "| 27 | good      | 0.6854614 | \n",
       "| 28 | good      | 0.6201342 | \n",
       "| 30 | bad       | 0.1640578 | \n",
       "| 32 | good      | 0.4095292 | \n",
       "| 33 | good      | 0.4228194 | \n",
       "| 35 | good      | 0.6087154 | \n",
       "| 36 | bad       | 0.4439027 | \n",
       "| 38 | bad       | 0.8050861 | \n",
       "| 43 | good      | 0.5232461 | \n",
       "| 44 | good      | 0.6165267 | \n",
       "| 46 | good      | 0.7312554 | \n",
       "| 50 | good      | 0.8407349 | \n",
       "| 51 | good      | 0.4014700 | \n",
       "| 53 | good      | 0.8844510 | \n",
       "| 54 | good      | 0.9378931 | \n",
       "\n",
       "\n"
      ],
      "text/plain": [
       "   bad_credit probs    \n",
       "2  bad        0.3731437\n",
       "6  good       0.4849324\n",
       "17 good       0.9131080\n",
       "21 good       0.8492696\n",
       "24 good       0.8828502\n",
       "27 good       0.6854614\n",
       "28 good       0.6201342\n",
       "30 bad        0.1640578\n",
       "32 good       0.4095292\n",
       "33 good       0.4228194\n",
       "35 good       0.6087154\n",
       "36 bad        0.4439027\n",
       "38 bad        0.8050861\n",
       "43 good       0.5232461\n",
       "44 good       0.6165267\n",
       "46 good       0.7312554\n",
       "50 good       0.8407349\n",
       "51 good       0.4014700\n",
       "53 good       0.8844510\n",
       "54 good       0.9378931"
      ]
     },
     "metadata": {},
     "output_type": "display_data"
    }
   ],
   "source": [
    "test$probs = predict(logistic_mod_w, newdata = test, type = 'response')\n",
    "test[1:20, c('bad_credit','probs')]"
   ]
  },
  {
   "cell_type": "markdown",
   "metadata": {},
   "source": [
    "By eyeball, the above probabilities are not terribly different from the unweighted model. \n",
    "\n",
    "To find if there is any significant difference with the unweighted model, compute the scores, the metrics, and display the metrics by executing the code in the cell below."
   ]
  },
  {
   "cell_type": "code",
   "execution_count": 18,
   "metadata": {
    "scrolled": false
   },
   "outputs": [
    {
     "name": "stdout",
     "output_type": "stream",
     "text": [
      "                Negative Positive\n",
      "Actual Negative      168       42\n",
      "Actual Positive       27       63\n",
      "\n",
      "accuracy  = 0.77 \n",
      "precision = 0.6 \n",
      "recall    = 0.7 \n",
      "F1        = 0.646 \n",
      "AUC       = 0.803 \n"
     ]
    },
    {
     "data": {
      "image/png": "[encoded data removed]",
      "text/plain": [
       "plot without title"
      ]
     },
     "metadata": {},
     "output_type": "display_data"
    }
   ],
   "source": [
    "test = score_model(test, 0.5)\n",
    "logistic.eval(test)\n",
    "ROC_AUC(test)"
   ]
  },
  {
   "cell_type": "markdown",
   "metadata": {},
   "source": [
    "The F1 and recall have increased at the expense of precision. The AUC is almost if not unchanged. Re-weighting the labels has moved the results in the desired direction, at least a bit.\n",
    "\n",
    "The trade-off between true positive and false positive is similar to the unweighted model."
   ]
  },
  {
   "cell_type": "markdown",
   "metadata": {},
   "source": [
    "## Find a better threshold\n",
    "\n",
    "There is another way to tip the model scoring toward correctly identifying the bad credit cases. The scoring threshold can be adjusted. Until now, the scores have been computed from the probabilities using a threshold of 0.5. However, there is no reason to think this is the correct choice. Recall that the score is  determined by setting the threshold along the sigmoidal or logistic function. It is possible to favor either positive or negative cases by changing the threshold along this curve. \n",
    "\n",
    "The code in the cell below contains a function for scoring and evaluating the model for a given threshold value. The `for` loop iterates over the list of five candidate threshold values. Execute this code and examine how changing the threshold value changes the scoring for the model. \n",
    "\n",
    "Then, answer **Question 3** on the course page."
   ]
  },
  {
   "cell_type": "code",
   "execution_count": 19,
   "metadata": {},
   "outputs": [
    {
     "name": "stdout",
     "output_type": "stream",
     "text": [
      "\n",
      "For threshold =  0.5 \n",
      "                Negative Positive\n",
      "Actual Negative      168       42\n",
      "Actual Positive       27       63\n",
      "\n",
      "accuracy  = 0.77 \n",
      "precision = 0.6 \n",
      "recall    = 0.7 \n",
      "F1        = 0.646 \n",
      "AUC       = 0.803 \n",
      "\n",
      "For threshold =  0.55 \n",
      "                Negative Positive\n",
      "Actual Negative      161       49\n",
      "Actual Positive       25       65\n",
      "\n",
      "accuracy  = 0.753 \n",
      "precision = 0.57 \n",
      "recall    = 0.722 \n",
      "F1        = 0.637 \n",
      "AUC       = 0.803 \n",
      "\n",
      "For threshold =  0.6 \n",
      "                Negative Positive\n",
      "Actual Negative      149       61\n",
      "Actual Positive       20       70\n",
      "\n",
      "accuracy  = 0.73 \n",
      "precision = 0.534 \n",
      "recall    = 0.778 \n",
      "F1        = 0.633 \n",
      "AUC       = 0.803 \n",
      "\n",
      "For threshold =  0.65 \n",
      "                Negative Positive\n",
      "Actual Negative      131       79\n",
      "Actual Positive       19       71\n",
      "\n",
      "accuracy  = 0.673 \n",
      "precision = 0.473 \n",
      "recall    = 0.789 \n",
      "F1        = 0.592 \n",
      "AUC       = 0.803 \n"
     ]
    }
   ],
   "source": [
    "test_threshold = function(test, threshold){\n",
    "    test$score = predict(logistic_mod_w, newdata = test, type = 'response')\n",
    "    test = score_model(test, t)\n",
    "    cat('\\n')\n",
    "    cat(paste('For threshold = ', as.character(threshold), '\\n'))\n",
    "    logistic.eval(test)\n",
    "}\n",
    "\n",
    "thresholds = c(0.5, 0.55, 0.60, 0.65)\n",
    "for(t in thresholds) test_threshold(test, t) # Iterate over the thresholds"
   ]
  },
  {
   "cell_type": "markdown",
   "metadata": {},
   "source": [
    "As the threshold is decreased the number of correctly classified positive cases (bad credit customers) increases at the expense of correctly classifying negative cases (good credit customers). At the same time, accuracy decreases. However, as you have observed, accuracy is not a particularly useful metric here. \n",
    "\n",
    "Exactly which threshold to pick is a business decision. Notice that with a threshold value of 0.6 the number of false negatives (misclassified good credit customers) is more than three times that of false positives (misclassified bad credit customers)."
   ]
  },
  {
   "cell_type": "markdown",
   "metadata": {},
   "source": [
    "## Summary\n",
    "\n",
    "In this lesson you have done the following:\n",
    "1. Prepared the credit risk data set for modeling. The steps included coding the label and scaling the numeric features. \n",
    "2. Computed a logistic regression model. \n",
    "3. Evaluated the performance of the module using multiple metrics. It is clear that accuracy is not a particularly useful metric here. The naive 'classifier' produced accuracy that was only somewhat worse as a result of the class imbalance.  The confusion matrix and the precision, recall and F1 statistics gave meaningful measures of model performance, especially when considered together. \n",
    "4. Re-weighted the labels and changed the decision threshold for the re-weighted model. These steps helped overcome both the class imbalance problem and the asymmetric cost of misclassification to the bank. "
   ]
  },
  {
   "cell_type": "code",
   "execution_count": null,
   "metadata": {},
   "outputs": [],
   "source": []
  }
 ],
 "metadata": {
  "kernelspec": {
   "display_name": "R",
   "language": "R",
   "name": "ir"
  },
  "language_info": {
   "codemirror_mode": "r",
   "file_extension": ".r",
   "mimetype": "text/x-r-source",
   "name": "R",
   "pygments_lexer": "r",
   "version": "3.3.3"
  }
 },
 "nbformat": 4,
 "nbformat_minor": 2
}
